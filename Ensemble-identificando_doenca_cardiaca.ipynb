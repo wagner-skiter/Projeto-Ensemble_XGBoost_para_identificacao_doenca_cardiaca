{
 "cells": [
  {
   "cell_type": "markdown",
   "metadata": {},
   "source": [
    "# Ensemble para identificação de doença cardíaca"
   ]
  },
  {
   "cell_type": "markdown",
   "metadata": {},
   "source": [
    "**Nesse projeto iremos usar o método de ensemble para indentificar em um Dataset os pacientes com problemas cardíacos.**"
   ]
  },
  {
   "cell_type": "markdown",
   "metadata": {},
   "source": [
    "<img src=\"https://i.imgur.com/i6kiFIx.jpg\" />"
   ]
  },
  {
   "cell_type": "markdown",
   "metadata": {},
   "source": [
    "## Heart Disease Data Set"
   ]
  },
  {
   "cell_type": "markdown",
   "metadata": {},
   "source": [
    "### Conjunto de dados\n",
    "\n",
    "Existem 13 colunas no conjunto de dados, que são descritas abaixo:\n",
    "\n",
    "- slope: slope_of_peak_exercise_st_segment (type: int): a inclinação do segmento ST do pico do exercício, uma eletrocardiografia lida indicando a qualidade do fluxo sanguíneo no coração\n",
    "\n",
    "- thal (tipo: categórico): resultados do teste de estresse com tálio que mede o fluxo sanguíneo para o coração, com possíveis valores normal, defeito fixo, defeito reversível\n",
    "\n",
    "- resting_blood_pressure (type: int): pressão arterial em repouso\n",
    "\n",
    "- chest: chest_pain_type (type: int): tipo de dor no peito (4 valores)\n",
    "\n",
    "- num_major_vessels (type: int): número de vasos principais (0-3) coloridos por flourosopy\n",
    "\n",
    "- fasting_blood_sugar_gt_120_mg_per_dl (tipo: binário): açúcar no sangue em jejum> 120 mg / dl\n",
    "\n",
    "- resting_electrocardiographic_results: resting_ekg_results (type: int): resultados eletrocardiográficos de repouso (valores 0,1,2)\n",
    "\n",
    "- serum_cholestoral: soro_colesterol_mg_por_dl (tipo: int): colesterol sérico em mg / dl\n",
    "\n",
    "- oldpeak: oldpeak_eq_st_depression (tipo: float): oldpeak = depressão do ST induzida pelo exercício em relação ao repouso, uma medida de anormalidade nos eletrocardiogramas\n",
    "\n",
    "- sex: sexo (tipo: binário): 0: feminino, 1: masculino\n",
    "\n",
    "- age: idade (tipo: int): idade em anos\n",
    "\n",
    "- maximum_heart_rate_achieved (type: int): frequência cardíaca máxima atingida (batimentos por minuto)\n",
    "\n",
    "- exercise_induced_angina (tipo: binário): dor no peito induzida por exercício (0: Falso, 1: Verdadeiro)\n",
    "\n",
    "Nosso objetivo é prever a classe binária **class**, que representa se um paciente tem ou não uma doença cardíaca:\n",
    "\n",
    "- 0 representa nenhuma doença cardíaca presente\n",
    "- 1 representa doença cardíaca presente"
   ]
  },
  {
   "cell_type": "code",
   "execution_count": 1,
   "metadata": {},
   "outputs": [],
   "source": [
    "from pandas import set_option\n",
    "%matplotlib inline\n",
    "from pathlib import Path\n",
    "import numpy as np\n",
    "import pandas as pd\n",
    "import matplotlib.pyplot as plt\n",
    "import seaborn as sns\n",
    "from sklearn.preprocessing import StandardScaler\n",
    "from sklearn.metrics import log_loss\n",
    "from sklearn.linear_model import LogisticRegression\n",
    "from sklearn.pipeline import Pipeline\n",
    "from sklearn.model_selection import GridSearchCV\n",
    "import xgboost as xgb\n",
    "from sklearn.model_selection import train_test_split\n",
    "from sklearn.metrics import accuracy_score"
   ]
  },
  {
   "cell_type": "code",
   "execution_count": 2,
   "metadata": {},
   "outputs": [
    {
     "name": "stdout",
     "output_type": "stream",
     "text": [
      "Wall time: 28 ms\n"
     ]
    }
   ],
   "source": [
    "%time df = pd.read_csv('C:/Users/skite/OneDrive/Documentos/GitHub/Ensemble2/dataset_53_heart-statlog_csv.csv', sep = ',', encoding  = 'ISO-8859-1')"
   ]
  },
  {
   "cell_type": "code",
   "execution_count": 3,
   "metadata": {},
   "outputs": [
    {
     "data": {
      "text/html": [
       "<div>\n",
       "<style scoped>\n",
       "    .dataframe tbody tr th:only-of-type {\n",
       "        vertical-align: middle;\n",
       "    }\n",
       "\n",
       "    .dataframe tbody tr th {\n",
       "        vertical-align: top;\n",
       "    }\n",
       "\n",
       "    .dataframe thead th {\n",
       "        text-align: right;\n",
       "    }\n",
       "</style>\n",
       "<table border=\"1\" class=\"dataframe\">\n",
       "  <thead>\n",
       "    <tr style=\"text-align: right;\">\n",
       "      <th></th>\n",
       "      <th>age</th>\n",
       "      <th>sex</th>\n",
       "      <th>chest</th>\n",
       "      <th>resting_blood_pressure</th>\n",
       "      <th>serum_cholestoral</th>\n",
       "      <th>fasting_blood_sugar</th>\n",
       "      <th>resting_electrocardiographic_results</th>\n",
       "      <th>maximum_heart_rate_achieved</th>\n",
       "      <th>exercise_induced_angina</th>\n",
       "      <th>oldpeak</th>\n",
       "      <th>slope</th>\n",
       "      <th>number_of_major_vessels</th>\n",
       "      <th>thal</th>\n",
       "      <th>class</th>\n",
       "    </tr>\n",
       "  </thead>\n",
       "  <tbody>\n",
       "    <tr>\n",
       "      <th>0</th>\n",
       "      <td>70</td>\n",
       "      <td>1</td>\n",
       "      <td>4</td>\n",
       "      <td>130</td>\n",
       "      <td>322</td>\n",
       "      <td>0</td>\n",
       "      <td>2</td>\n",
       "      <td>109</td>\n",
       "      <td>0</td>\n",
       "      <td>2.4</td>\n",
       "      <td>2</td>\n",
       "      <td>3</td>\n",
       "      <td>3</td>\n",
       "      <td>present</td>\n",
       "    </tr>\n",
       "    <tr>\n",
       "      <th>1</th>\n",
       "      <td>67</td>\n",
       "      <td>0</td>\n",
       "      <td>3</td>\n",
       "      <td>115</td>\n",
       "      <td>564</td>\n",
       "      <td>0</td>\n",
       "      <td>2</td>\n",
       "      <td>160</td>\n",
       "      <td>0</td>\n",
       "      <td>1.6</td>\n",
       "      <td>2</td>\n",
       "      <td>0</td>\n",
       "      <td>7</td>\n",
       "      <td>absent</td>\n",
       "    </tr>\n",
       "    <tr>\n",
       "      <th>2</th>\n",
       "      <td>57</td>\n",
       "      <td>1</td>\n",
       "      <td>2</td>\n",
       "      <td>124</td>\n",
       "      <td>261</td>\n",
       "      <td>0</td>\n",
       "      <td>0</td>\n",
       "      <td>141</td>\n",
       "      <td>0</td>\n",
       "      <td>0.3</td>\n",
       "      <td>1</td>\n",
       "      <td>0</td>\n",
       "      <td>7</td>\n",
       "      <td>present</td>\n",
       "    </tr>\n",
       "    <tr>\n",
       "      <th>3</th>\n",
       "      <td>64</td>\n",
       "      <td>1</td>\n",
       "      <td>4</td>\n",
       "      <td>128</td>\n",
       "      <td>263</td>\n",
       "      <td>0</td>\n",
       "      <td>0</td>\n",
       "      <td>105</td>\n",
       "      <td>1</td>\n",
       "      <td>0.2</td>\n",
       "      <td>2</td>\n",
       "      <td>1</td>\n",
       "      <td>7</td>\n",
       "      <td>absent</td>\n",
       "    </tr>\n",
       "    <tr>\n",
       "      <th>4</th>\n",
       "      <td>74</td>\n",
       "      <td>0</td>\n",
       "      <td>2</td>\n",
       "      <td>120</td>\n",
       "      <td>269</td>\n",
       "      <td>0</td>\n",
       "      <td>2</td>\n",
       "      <td>121</td>\n",
       "      <td>1</td>\n",
       "      <td>0.2</td>\n",
       "      <td>1</td>\n",
       "      <td>1</td>\n",
       "      <td>3</td>\n",
       "      <td>absent</td>\n",
       "    </tr>\n",
       "  </tbody>\n",
       "</table>\n",
       "</div>"
      ],
      "text/plain": [
       "   age  sex  chest  resting_blood_pressure  serum_cholestoral  \\\n",
       "0   70    1      4                     130                322   \n",
       "1   67    0      3                     115                564   \n",
       "2   57    1      2                     124                261   \n",
       "3   64    1      4                     128                263   \n",
       "4   74    0      2                     120                269   \n",
       "\n",
       "   fasting_blood_sugar  resting_electrocardiographic_results  \\\n",
       "0                    0                                     2   \n",
       "1                    0                                     2   \n",
       "2                    0                                     0   \n",
       "3                    0                                     0   \n",
       "4                    0                                     2   \n",
       "\n",
       "   maximum_heart_rate_achieved  exercise_induced_angina  oldpeak  slope  \\\n",
       "0                          109                        0      2.4      2   \n",
       "1                          160                        0      1.6      2   \n",
       "2                          141                        0      0.3      1   \n",
       "3                          105                        1      0.2      2   \n",
       "4                          121                        1      0.2      1   \n",
       "\n",
       "   number_of_major_vessels  thal    class  \n",
       "0                        3     3  present  \n",
       "1                        0     7   absent  \n",
       "2                        0     7  present  \n",
       "3                        1     7   absent  \n",
       "4                        1     3   absent  "
      ]
     },
     "execution_count": 3,
     "metadata": {},
     "output_type": "execute_result"
    }
   ],
   "source": [
    "df.head()"
   ]
  },
  {
   "cell_type": "code",
   "execution_count": 4,
   "metadata": {},
   "outputs": [
    {
     "name": "stdout",
     "output_type": "stream",
     "text": [
      "<class 'pandas.core.frame.DataFrame'>\n",
      "RangeIndex: 270 entries, 0 to 269\n",
      "Data columns (total 14 columns):\n",
      " #   Column                                Non-Null Count  Dtype  \n",
      "---  ------                                --------------  -----  \n",
      " 0   age                                   270 non-null    int64  \n",
      " 1   sex                                   270 non-null    int64  \n",
      " 2   chest                                 270 non-null    int64  \n",
      " 3   resting_blood_pressure                270 non-null    int64  \n",
      " 4   serum_cholestoral                     270 non-null    int64  \n",
      " 5   fasting_blood_sugar                   270 non-null    int64  \n",
      " 6   resting_electrocardiographic_results  270 non-null    int64  \n",
      " 7   maximum_heart_rate_achieved           270 non-null    int64  \n",
      " 8   exercise_induced_angina               270 non-null    int64  \n",
      " 9   oldpeak                               270 non-null    float64\n",
      " 10  slope                                 270 non-null    int64  \n",
      " 11  number_of_major_vessels               270 non-null    int64  \n",
      " 12  thal                                  270 non-null    int64  \n",
      " 13  class                                 270 non-null    object \n",
      "dtypes: float64(1), int64(12), object(1)\n",
      "memory usage: 29.7+ KB\n"
     ]
    }
   ],
   "source": [
    "df.info()"
   ]
  },
  {
   "cell_type": "markdown",
   "metadata": {},
   "source": [
    "*Não temos dados faltantes, esse Dataset é relativamente pequeno e já está praticamente pronto para a aplicação de ensemble*"
   ]
  },
  {
   "cell_type": "code",
   "execution_count": 5,
   "metadata": {},
   "outputs": [
    {
     "data": {
      "text/html": [
       "<div>\n",
       "<style scoped>\n",
       "    .dataframe tbody tr th:only-of-type {\n",
       "        vertical-align: middle;\n",
       "    }\n",
       "\n",
       "    .dataframe tbody tr th {\n",
       "        vertical-align: top;\n",
       "    }\n",
       "\n",
       "    .dataframe thead th {\n",
       "        text-align: right;\n",
       "    }\n",
       "</style>\n",
       "<table border=\"1\" class=\"dataframe\">\n",
       "  <thead>\n",
       "    <tr style=\"text-align: right;\">\n",
       "      <th></th>\n",
       "      <th>age</th>\n",
       "      <th>sex</th>\n",
       "      <th>chest</th>\n",
       "      <th>resting_blood_pressure</th>\n",
       "      <th>serum_cholestoral</th>\n",
       "      <th>fasting_blood_sugar</th>\n",
       "      <th>resting_electrocardiographic_results</th>\n",
       "      <th>maximum_heart_rate_achieved</th>\n",
       "      <th>exercise_induced_angina</th>\n",
       "      <th>oldpeak</th>\n",
       "      <th>slope</th>\n",
       "      <th>number_of_major_vessels</th>\n",
       "      <th>thal</th>\n",
       "    </tr>\n",
       "  </thead>\n",
       "  <tbody>\n",
       "    <tr>\n",
       "      <th>count</th>\n",
       "      <td>270.000000</td>\n",
       "      <td>270.000000</td>\n",
       "      <td>270.000000</td>\n",
       "      <td>270.000000</td>\n",
       "      <td>270.000000</td>\n",
       "      <td>270.000000</td>\n",
       "      <td>270.000000</td>\n",
       "      <td>270.000000</td>\n",
       "      <td>270.000000</td>\n",
       "      <td>270.00000</td>\n",
       "      <td>270.000000</td>\n",
       "      <td>270.000000</td>\n",
       "      <td>270.000000</td>\n",
       "    </tr>\n",
       "    <tr>\n",
       "      <th>mean</th>\n",
       "      <td>54.433333</td>\n",
       "      <td>0.677778</td>\n",
       "      <td>3.174074</td>\n",
       "      <td>131.344444</td>\n",
       "      <td>249.659259</td>\n",
       "      <td>0.148148</td>\n",
       "      <td>1.022222</td>\n",
       "      <td>149.677778</td>\n",
       "      <td>0.329630</td>\n",
       "      <td>1.05000</td>\n",
       "      <td>1.585185</td>\n",
       "      <td>0.670370</td>\n",
       "      <td>4.696296</td>\n",
       "    </tr>\n",
       "    <tr>\n",
       "      <th>std</th>\n",
       "      <td>9.109067</td>\n",
       "      <td>0.468195</td>\n",
       "      <td>0.950090</td>\n",
       "      <td>17.861608</td>\n",
       "      <td>51.686237</td>\n",
       "      <td>0.355906</td>\n",
       "      <td>0.997891</td>\n",
       "      <td>23.165717</td>\n",
       "      <td>0.470952</td>\n",
       "      <td>1.14521</td>\n",
       "      <td>0.614390</td>\n",
       "      <td>0.943896</td>\n",
       "      <td>1.940659</td>\n",
       "    </tr>\n",
       "    <tr>\n",
       "      <th>min</th>\n",
       "      <td>29.000000</td>\n",
       "      <td>0.000000</td>\n",
       "      <td>1.000000</td>\n",
       "      <td>94.000000</td>\n",
       "      <td>126.000000</td>\n",
       "      <td>0.000000</td>\n",
       "      <td>0.000000</td>\n",
       "      <td>71.000000</td>\n",
       "      <td>0.000000</td>\n",
       "      <td>0.00000</td>\n",
       "      <td>1.000000</td>\n",
       "      <td>0.000000</td>\n",
       "      <td>3.000000</td>\n",
       "    </tr>\n",
       "    <tr>\n",
       "      <th>25%</th>\n",
       "      <td>48.000000</td>\n",
       "      <td>0.000000</td>\n",
       "      <td>3.000000</td>\n",
       "      <td>120.000000</td>\n",
       "      <td>213.000000</td>\n",
       "      <td>0.000000</td>\n",
       "      <td>0.000000</td>\n",
       "      <td>133.000000</td>\n",
       "      <td>0.000000</td>\n",
       "      <td>0.00000</td>\n",
       "      <td>1.000000</td>\n",
       "      <td>0.000000</td>\n",
       "      <td>3.000000</td>\n",
       "    </tr>\n",
       "    <tr>\n",
       "      <th>50%</th>\n",
       "      <td>55.000000</td>\n",
       "      <td>1.000000</td>\n",
       "      <td>3.000000</td>\n",
       "      <td>130.000000</td>\n",
       "      <td>245.000000</td>\n",
       "      <td>0.000000</td>\n",
       "      <td>2.000000</td>\n",
       "      <td>153.500000</td>\n",
       "      <td>0.000000</td>\n",
       "      <td>0.80000</td>\n",
       "      <td>2.000000</td>\n",
       "      <td>0.000000</td>\n",
       "      <td>3.000000</td>\n",
       "    </tr>\n",
       "    <tr>\n",
       "      <th>75%</th>\n",
       "      <td>61.000000</td>\n",
       "      <td>1.000000</td>\n",
       "      <td>4.000000</td>\n",
       "      <td>140.000000</td>\n",
       "      <td>280.000000</td>\n",
       "      <td>0.000000</td>\n",
       "      <td>2.000000</td>\n",
       "      <td>166.000000</td>\n",
       "      <td>1.000000</td>\n",
       "      <td>1.60000</td>\n",
       "      <td>2.000000</td>\n",
       "      <td>1.000000</td>\n",
       "      <td>7.000000</td>\n",
       "    </tr>\n",
       "    <tr>\n",
       "      <th>max</th>\n",
       "      <td>77.000000</td>\n",
       "      <td>1.000000</td>\n",
       "      <td>4.000000</td>\n",
       "      <td>200.000000</td>\n",
       "      <td>564.000000</td>\n",
       "      <td>1.000000</td>\n",
       "      <td>2.000000</td>\n",
       "      <td>202.000000</td>\n",
       "      <td>1.000000</td>\n",
       "      <td>6.20000</td>\n",
       "      <td>3.000000</td>\n",
       "      <td>3.000000</td>\n",
       "      <td>7.000000</td>\n",
       "    </tr>\n",
       "  </tbody>\n",
       "</table>\n",
       "</div>"
      ],
      "text/plain": [
       "              age         sex       chest  resting_blood_pressure  \\\n",
       "count  270.000000  270.000000  270.000000              270.000000   \n",
       "mean    54.433333    0.677778    3.174074              131.344444   \n",
       "std      9.109067    0.468195    0.950090               17.861608   \n",
       "min     29.000000    0.000000    1.000000               94.000000   \n",
       "25%     48.000000    0.000000    3.000000              120.000000   \n",
       "50%     55.000000    1.000000    3.000000              130.000000   \n",
       "75%     61.000000    1.000000    4.000000              140.000000   \n",
       "max     77.000000    1.000000    4.000000              200.000000   \n",
       "\n",
       "       serum_cholestoral  fasting_blood_sugar  \\\n",
       "count         270.000000           270.000000   \n",
       "mean          249.659259             0.148148   \n",
       "std            51.686237             0.355906   \n",
       "min           126.000000             0.000000   \n",
       "25%           213.000000             0.000000   \n",
       "50%           245.000000             0.000000   \n",
       "75%           280.000000             0.000000   \n",
       "max           564.000000             1.000000   \n",
       "\n",
       "       resting_electrocardiographic_results  maximum_heart_rate_achieved  \\\n",
       "count                            270.000000                   270.000000   \n",
       "mean                               1.022222                   149.677778   \n",
       "std                                0.997891                    23.165717   \n",
       "min                                0.000000                    71.000000   \n",
       "25%                                0.000000                   133.000000   \n",
       "50%                                2.000000                   153.500000   \n",
       "75%                                2.000000                   166.000000   \n",
       "max                                2.000000                   202.000000   \n",
       "\n",
       "       exercise_induced_angina    oldpeak       slope  \\\n",
       "count               270.000000  270.00000  270.000000   \n",
       "mean                  0.329630    1.05000    1.585185   \n",
       "std                   0.470952    1.14521    0.614390   \n",
       "min                   0.000000    0.00000    1.000000   \n",
       "25%                   0.000000    0.00000    1.000000   \n",
       "50%                   0.000000    0.80000    2.000000   \n",
       "75%                   1.000000    1.60000    2.000000   \n",
       "max                   1.000000    6.20000    3.000000   \n",
       "\n",
       "       number_of_major_vessels        thal  \n",
       "count               270.000000  270.000000  \n",
       "mean                  0.670370    4.696296  \n",
       "std                   0.943896    1.940659  \n",
       "min                   0.000000    3.000000  \n",
       "25%                   0.000000    3.000000  \n",
       "50%                   0.000000    3.000000  \n",
       "75%                   1.000000    7.000000  \n",
       "max                   3.000000    7.000000  "
      ]
     },
     "execution_count": 5,
     "metadata": {},
     "output_type": "execute_result"
    }
   ],
   "source": [
    "df.describe()"
   ]
  },
  {
   "cell_type": "markdown",
   "metadata": {},
   "source": [
    "*Temos valores muito alto para o desfio padrão de age, resting_blood_pressure, serum_cholestoral, maximum_heart_rate_achieved. vamos plotar um distribuição das variáveis para melhor visualização.*"
   ]
  },
  {
   "cell_type": "code",
   "execution_count": 6,
   "metadata": {},
   "outputs": [
    {
     "data": {
      "image/png": "[encoded data removed]",
      "text/plain": [
       "<Figure size 2160x1728 with 16 Axes>"
      ]
     },
     "metadata": {
      "needs_background": "light"
     },
     "output_type": "display_data"
    }
   ],
   "source": [
    "df.hist(figsize=(30,24),bins = 20)\n",
    "plt.title(\"Distribuição das variáveis\")\n",
    "plt.show()"
   ]
  },
  {
   "cell_type": "markdown",
   "metadata": {},
   "source": [
    "**Conforme identificamos na célula acima temos variáveis desbalanceadas que precisam de ajuste, mas não iremos fazer esses ajustes agora, pois quero ver como o método de ensemble se comporta com esses dados.**"
   ]
  },
  {
   "cell_type": "markdown",
   "metadata": {},
   "source": [
    "*Agora vamos verificação do balanceamento da Target*"
   ]
  },
  {
   "cell_type": "code",
   "execution_count": 7,
   "metadata": {},
   "outputs": [
    {
     "data": {
      "text/plain": [
       "absent     150\n",
       "present    120\n",
       "Name: class, dtype: int64"
      ]
     },
     "execution_count": 7,
     "metadata": {},
     "output_type": "execute_result"
    }
   ],
   "source": [
    "df['class'].value_counts()"
   ]
  },
  {
   "cell_type": "code",
   "execution_count": 8,
   "metadata": {},
   "outputs": [
    {
     "data": {
      "image/png": "[encoded data removed]",
      "text/plain": [
       "<Figure size 432x288 with 1 Axes>"
      ]
     },
     "metadata": {
      "needs_background": "light"
     },
     "output_type": "display_data"
    }
   ],
   "source": [
    "sns.countplot(y=df['class'] ,data=df)\n",
    "plt.xlabel(\"Contagem dos valores da target\")\n",
    "plt.ylabel(\"Target\")\n",
    "plt.show()"
   ]
  },
  {
   "cell_type": "markdown",
   "metadata": {},
   "source": [
    "**ok, agora vamos Substituindo os valores da variável target passando ela para binário**"
   ]
  },
  {
   "cell_type": "code",
   "execution_count": 9,
   "metadata": {},
   "outputs": [
    {
     "data": {
      "text/html": [
       "<div>\n",
       "<style scoped>\n",
       "    .dataframe tbody tr th:only-of-type {\n",
       "        vertical-align: middle;\n",
       "    }\n",
       "\n",
       "    .dataframe tbody tr th {\n",
       "        vertical-align: top;\n",
       "    }\n",
       "\n",
       "    .dataframe thead th {\n",
       "        text-align: right;\n",
       "    }\n",
       "</style>\n",
       "<table border=\"1\" class=\"dataframe\">\n",
       "  <thead>\n",
       "    <tr style=\"text-align: right;\">\n",
       "      <th></th>\n",
       "      <th>age</th>\n",
       "      <th>sex</th>\n",
       "      <th>chest</th>\n",
       "      <th>resting_blood_pressure</th>\n",
       "      <th>serum_cholestoral</th>\n",
       "      <th>fasting_blood_sugar</th>\n",
       "      <th>resting_electrocardiographic_results</th>\n",
       "      <th>maximum_heart_rate_achieved</th>\n",
       "      <th>exercise_induced_angina</th>\n",
       "      <th>oldpeak</th>\n",
       "      <th>slope</th>\n",
       "      <th>number_of_major_vessels</th>\n",
       "      <th>thal</th>\n",
       "      <th>class</th>\n",
       "    </tr>\n",
       "  </thead>\n",
       "  <tbody>\n",
       "    <tr>\n",
       "      <th>0</th>\n",
       "      <td>70</td>\n",
       "      <td>1</td>\n",
       "      <td>4</td>\n",
       "      <td>130</td>\n",
       "      <td>322</td>\n",
       "      <td>0</td>\n",
       "      <td>2</td>\n",
       "      <td>109</td>\n",
       "      <td>0</td>\n",
       "      <td>2.4</td>\n",
       "      <td>2</td>\n",
       "      <td>3</td>\n",
       "      <td>3</td>\n",
       "      <td>1</td>\n",
       "    </tr>\n",
       "    <tr>\n",
       "      <th>1</th>\n",
       "      <td>67</td>\n",
       "      <td>0</td>\n",
       "      <td>3</td>\n",
       "      <td>115</td>\n",
       "      <td>564</td>\n",
       "      <td>0</td>\n",
       "      <td>2</td>\n",
       "      <td>160</td>\n",
       "      <td>0</td>\n",
       "      <td>1.6</td>\n",
       "      <td>2</td>\n",
       "      <td>0</td>\n",
       "      <td>7</td>\n",
       "      <td>0</td>\n",
       "    </tr>\n",
       "    <tr>\n",
       "      <th>2</th>\n",
       "      <td>57</td>\n",
       "      <td>1</td>\n",
       "      <td>2</td>\n",
       "      <td>124</td>\n",
       "      <td>261</td>\n",
       "      <td>0</td>\n",
       "      <td>0</td>\n",
       "      <td>141</td>\n",
       "      <td>0</td>\n",
       "      <td>0.3</td>\n",
       "      <td>1</td>\n",
       "      <td>0</td>\n",
       "      <td>7</td>\n",
       "      <td>1</td>\n",
       "    </tr>\n",
       "    <tr>\n",
       "      <th>3</th>\n",
       "      <td>64</td>\n",
       "      <td>1</td>\n",
       "      <td>4</td>\n",
       "      <td>128</td>\n",
       "      <td>263</td>\n",
       "      <td>0</td>\n",
       "      <td>0</td>\n",
       "      <td>105</td>\n",
       "      <td>1</td>\n",
       "      <td>0.2</td>\n",
       "      <td>2</td>\n",
       "      <td>1</td>\n",
       "      <td>7</td>\n",
       "      <td>0</td>\n",
       "    </tr>\n",
       "    <tr>\n",
       "      <th>4</th>\n",
       "      <td>74</td>\n",
       "      <td>0</td>\n",
       "      <td>2</td>\n",
       "      <td>120</td>\n",
       "      <td>269</td>\n",
       "      <td>0</td>\n",
       "      <td>2</td>\n",
       "      <td>121</td>\n",
       "      <td>1</td>\n",
       "      <td>0.2</td>\n",
       "      <td>1</td>\n",
       "      <td>1</td>\n",
       "      <td>3</td>\n",
       "      <td>0</td>\n",
       "    </tr>\n",
       "  </tbody>\n",
       "</table>\n",
       "</div>"
      ],
      "text/plain": [
       "   age  sex  chest  resting_blood_pressure  serum_cholestoral  \\\n",
       "0   70    1      4                     130                322   \n",
       "1   67    0      3                     115                564   \n",
       "2   57    1      2                     124                261   \n",
       "3   64    1      4                     128                263   \n",
       "4   74    0      2                     120                269   \n",
       "\n",
       "   fasting_blood_sugar  resting_electrocardiographic_results  \\\n",
       "0                    0                                     2   \n",
       "1                    0                                     2   \n",
       "2                    0                                     0   \n",
       "3                    0                                     0   \n",
       "4                    0                                     2   \n",
       "\n",
       "   maximum_heart_rate_achieved  exercise_induced_angina  oldpeak  slope  \\\n",
       "0                          109                        0      2.4      2   \n",
       "1                          160                        0      1.6      2   \n",
       "2                          141                        0      0.3      1   \n",
       "3                          105                        1      0.2      2   \n",
       "4                          121                        1      0.2      1   \n",
       "\n",
       "   number_of_major_vessels  thal  class  \n",
       "0                        3     3      1  \n",
       "1                        0     7      0  \n",
       "2                        0     7      1  \n",
       "3                        1     7      0  \n",
       "4                        1     3      0  "
      ]
     },
     "execution_count": 9,
     "metadata": {},
     "output_type": "execute_result"
    }
   ],
   "source": [
    "df.replace({'absent': 0, 'present': 1},inplace=True)\n",
    "df.head()"
   ]
  },
  {
   "cell_type": "markdown",
   "metadata": {},
   "source": [
    "## Separação dos dados em treino e teste"
   ]
  },
  {
   "cell_type": "markdown",
   "metadata": {},
   "source": [
    "**separação em dados de treino - 189 primeiras linhas o que representa 70% dos dados para treino.**"
   ]
  },
  {
   "cell_type": "code",
   "execution_count": 10,
   "metadata": {},
   "outputs": [
    {
     "name": "stdout",
     "output_type": "stream",
     "text": [
      "<class 'pandas.core.frame.DataFrame'>\n",
      "RangeIndex: 189 entries, 0 to 188\n",
      "Data columns (total 14 columns):\n",
      " #   Column                                Non-Null Count  Dtype  \n",
      "---  ------                                --------------  -----  \n",
      " 0   age                                   189 non-null    int64  \n",
      " 1   sex                                   189 non-null    int64  \n",
      " 2   chest                                 189 non-null    int64  \n",
      " 3   resting_blood_pressure                189 non-null    int64  \n",
      " 4   serum_cholestoral                     189 non-null    int64  \n",
      " 5   fasting_blood_sugar                   189 non-null    int64  \n",
      " 6   resting_electrocardiographic_results  189 non-null    int64  \n",
      " 7   maximum_heart_rate_achieved           189 non-null    int64  \n",
      " 8   exercise_induced_angina               189 non-null    int64  \n",
      " 9   oldpeak                               189 non-null    float64\n",
      " 10  slope                                 189 non-null    int64  \n",
      " 11  number_of_major_vessels               189 non-null    int64  \n",
      " 12  thal                                  189 non-null    int64  \n",
      " 13  class                                 189 non-null    int64  \n",
      "dtypes: float64(1), int64(13)\n",
      "memory usage: 20.8 KB\n"
     ]
    }
   ],
   "source": [
    "train = df.iloc[:189,:] \n",
    "train.info()"
   ]
  },
  {
   "cell_type": "code",
   "execution_count": 11,
   "metadata": {},
   "outputs": [
    {
     "data": {
      "text/html": [
       "<div>\n",
       "<style scoped>\n",
       "    .dataframe tbody tr th:only-of-type {\n",
       "        vertical-align: middle;\n",
       "    }\n",
       "\n",
       "    .dataframe tbody tr th {\n",
       "        vertical-align: top;\n",
       "    }\n",
       "\n",
       "    .dataframe thead th {\n",
       "        text-align: right;\n",
       "    }\n",
       "</style>\n",
       "<table border=\"1\" class=\"dataframe\">\n",
       "  <thead>\n",
       "    <tr style=\"text-align: right;\">\n",
       "      <th></th>\n",
       "      <th>age</th>\n",
       "      <th>sex</th>\n",
       "      <th>chest</th>\n",
       "      <th>resting_blood_pressure</th>\n",
       "      <th>serum_cholestoral</th>\n",
       "      <th>fasting_blood_sugar</th>\n",
       "      <th>resting_electrocardiographic_results</th>\n",
       "      <th>maximum_heart_rate_achieved</th>\n",
       "      <th>exercise_induced_angina</th>\n",
       "      <th>oldpeak</th>\n",
       "      <th>slope</th>\n",
       "      <th>number_of_major_vessels</th>\n",
       "      <th>thal</th>\n",
       "      <th>class</th>\n",
       "    </tr>\n",
       "  </thead>\n",
       "  <tbody>\n",
       "    <tr>\n",
       "      <th>265</th>\n",
       "      <td>52</td>\n",
       "      <td>1</td>\n",
       "      <td>3</td>\n",
       "      <td>172</td>\n",
       "      <td>199</td>\n",
       "      <td>1</td>\n",
       "      <td>0</td>\n",
       "      <td>162</td>\n",
       "      <td>0</td>\n",
       "      <td>0.5</td>\n",
       "      <td>1</td>\n",
       "      <td>0</td>\n",
       "      <td>7</td>\n",
       "      <td>0</td>\n",
       "    </tr>\n",
       "    <tr>\n",
       "      <th>266</th>\n",
       "      <td>44</td>\n",
       "      <td>1</td>\n",
       "      <td>2</td>\n",
       "      <td>120</td>\n",
       "      <td>263</td>\n",
       "      <td>0</td>\n",
       "      <td>0</td>\n",
       "      <td>173</td>\n",
       "      <td>0</td>\n",
       "      <td>0.0</td>\n",
       "      <td>1</td>\n",
       "      <td>0</td>\n",
       "      <td>7</td>\n",
       "      <td>0</td>\n",
       "    </tr>\n",
       "    <tr>\n",
       "      <th>267</th>\n",
       "      <td>56</td>\n",
       "      <td>0</td>\n",
       "      <td>2</td>\n",
       "      <td>140</td>\n",
       "      <td>294</td>\n",
       "      <td>0</td>\n",
       "      <td>2</td>\n",
       "      <td>153</td>\n",
       "      <td>0</td>\n",
       "      <td>1.3</td>\n",
       "      <td>2</td>\n",
       "      <td>0</td>\n",
       "      <td>3</td>\n",
       "      <td>0</td>\n",
       "    </tr>\n",
       "    <tr>\n",
       "      <th>268</th>\n",
       "      <td>57</td>\n",
       "      <td>1</td>\n",
       "      <td>4</td>\n",
       "      <td>140</td>\n",
       "      <td>192</td>\n",
       "      <td>0</td>\n",
       "      <td>0</td>\n",
       "      <td>148</td>\n",
       "      <td>0</td>\n",
       "      <td>0.4</td>\n",
       "      <td>2</td>\n",
       "      <td>0</td>\n",
       "      <td>6</td>\n",
       "      <td>0</td>\n",
       "    </tr>\n",
       "    <tr>\n",
       "      <th>269</th>\n",
       "      <td>67</td>\n",
       "      <td>1</td>\n",
       "      <td>4</td>\n",
       "      <td>160</td>\n",
       "      <td>286</td>\n",
       "      <td>0</td>\n",
       "      <td>2</td>\n",
       "      <td>108</td>\n",
       "      <td>1</td>\n",
       "      <td>1.5</td>\n",
       "      <td>2</td>\n",
       "      <td>3</td>\n",
       "      <td>3</td>\n",
       "      <td>1</td>\n",
       "    </tr>\n",
       "  </tbody>\n",
       "</table>\n",
       "</div>"
      ],
      "text/plain": [
       "     age  sex  chest  resting_blood_pressure  serum_cholestoral  \\\n",
       "265   52    1      3                     172                199   \n",
       "266   44    1      2                     120                263   \n",
       "267   56    0      2                     140                294   \n",
       "268   57    1      4                     140                192   \n",
       "269   67    1      4                     160                286   \n",
       "\n",
       "     fasting_blood_sugar  resting_electrocardiographic_results  \\\n",
       "265                    1                                     0   \n",
       "266                    0                                     0   \n",
       "267                    0                                     2   \n",
       "268                    0                                     0   \n",
       "269                    0                                     2   \n",
       "\n",
       "     maximum_heart_rate_achieved  exercise_induced_angina  oldpeak  slope  \\\n",
       "265                          162                        0      0.5      1   \n",
       "266                          173                        0      0.0      1   \n",
       "267                          153                        0      1.3      2   \n",
       "268                          148                        0      0.4      2   \n",
       "269                          108                        1      1.5      2   \n",
       "\n",
       "     number_of_major_vessels  thal  class  \n",
       "265                        0     7      0  \n",
       "266                        0     7      0  \n",
       "267                        0     3      0  \n",
       "268                        0     6      0  \n",
       "269                        3     3      1  "
      ]
     },
     "execution_count": 11,
     "metadata": {},
     "output_type": "execute_result"
    }
   ],
   "source": [
    "df.tail()"
   ]
  },
  {
   "cell_type": "markdown",
   "metadata": {},
   "source": [
    "**Agora vamos separação em dados de teste - 81 ultimas linhas que representa 30% para os dados de teste**"
   ]
  },
  {
   "cell_type": "code",
   "execution_count": 12,
   "metadata": {},
   "outputs": [
    {
     "name": "stdout",
     "output_type": "stream",
     "text": [
      "<class 'pandas.core.frame.DataFrame'>\n",
      "RangeIndex: 81 entries, 189 to 269\n",
      "Data columns (total 14 columns):\n",
      " #   Column                                Non-Null Count  Dtype  \n",
      "---  ------                                --------------  -----  \n",
      " 0   age                                   81 non-null     int64  \n",
      " 1   sex                                   81 non-null     int64  \n",
      " 2   chest                                 81 non-null     int64  \n",
      " 3   resting_blood_pressure                81 non-null     int64  \n",
      " 4   serum_cholestoral                     81 non-null     int64  \n",
      " 5   fasting_blood_sugar                   81 non-null     int64  \n",
      " 6   resting_electrocardiographic_results  81 non-null     int64  \n",
      " 7   maximum_heart_rate_achieved           81 non-null     int64  \n",
      " 8   exercise_induced_angina               81 non-null     int64  \n",
      " 9   oldpeak                               81 non-null     float64\n",
      " 10  slope                                 81 non-null     int64  \n",
      " 11  number_of_major_vessels               81 non-null     int64  \n",
      " 12  thal                                  81 non-null     int64  \n",
      " 13  class                                 81 non-null     int64  \n",
      "dtypes: float64(1), int64(13)\n",
      "memory usage: 9.0 KB\n"
     ]
    }
   ],
   "source": [
    "test = df.iloc[189:270,:]\n",
    "test.info()"
   ]
  },
  {
   "cell_type": "code",
   "execution_count": 13,
   "metadata": {},
   "outputs": [
    {
     "data": {
      "text/html": [
       "<div>\n",
       "<style scoped>\n",
       "    .dataframe tbody tr th:only-of-type {\n",
       "        vertical-align: middle;\n",
       "    }\n",
       "\n",
       "    .dataframe tbody tr th {\n",
       "        vertical-align: top;\n",
       "    }\n",
       "\n",
       "    .dataframe thead th {\n",
       "        text-align: right;\n",
       "    }\n",
       "</style>\n",
       "<table border=\"1\" class=\"dataframe\">\n",
       "  <thead>\n",
       "    <tr style=\"text-align: right;\">\n",
       "      <th></th>\n",
       "      <th>age</th>\n",
       "      <th>sex</th>\n",
       "      <th>chest</th>\n",
       "      <th>resting_blood_pressure</th>\n",
       "      <th>serum_cholestoral</th>\n",
       "      <th>fasting_blood_sugar</th>\n",
       "      <th>resting_electrocardiographic_results</th>\n",
       "      <th>maximum_heart_rate_achieved</th>\n",
       "      <th>exercise_induced_angina</th>\n",
       "      <th>oldpeak</th>\n",
       "      <th>slope</th>\n",
       "      <th>number_of_major_vessels</th>\n",
       "      <th>thal</th>\n",
       "      <th>class</th>\n",
       "    </tr>\n",
       "  </thead>\n",
       "  <tbody>\n",
       "    <tr>\n",
       "      <th>265</th>\n",
       "      <td>52</td>\n",
       "      <td>1</td>\n",
       "      <td>3</td>\n",
       "      <td>172</td>\n",
       "      <td>199</td>\n",
       "      <td>1</td>\n",
       "      <td>0</td>\n",
       "      <td>162</td>\n",
       "      <td>0</td>\n",
       "      <td>0.5</td>\n",
       "      <td>1</td>\n",
       "      <td>0</td>\n",
       "      <td>7</td>\n",
       "      <td>0</td>\n",
       "    </tr>\n",
       "    <tr>\n",
       "      <th>266</th>\n",
       "      <td>44</td>\n",
       "      <td>1</td>\n",
       "      <td>2</td>\n",
       "      <td>120</td>\n",
       "      <td>263</td>\n",
       "      <td>0</td>\n",
       "      <td>0</td>\n",
       "      <td>173</td>\n",
       "      <td>0</td>\n",
       "      <td>0.0</td>\n",
       "      <td>1</td>\n",
       "      <td>0</td>\n",
       "      <td>7</td>\n",
       "      <td>0</td>\n",
       "    </tr>\n",
       "    <tr>\n",
       "      <th>267</th>\n",
       "      <td>56</td>\n",
       "      <td>0</td>\n",
       "      <td>2</td>\n",
       "      <td>140</td>\n",
       "      <td>294</td>\n",
       "      <td>0</td>\n",
       "      <td>2</td>\n",
       "      <td>153</td>\n",
       "      <td>0</td>\n",
       "      <td>1.3</td>\n",
       "      <td>2</td>\n",
       "      <td>0</td>\n",
       "      <td>3</td>\n",
       "      <td>0</td>\n",
       "    </tr>\n",
       "    <tr>\n",
       "      <th>268</th>\n",
       "      <td>57</td>\n",
       "      <td>1</td>\n",
       "      <td>4</td>\n",
       "      <td>140</td>\n",
       "      <td>192</td>\n",
       "      <td>0</td>\n",
       "      <td>0</td>\n",
       "      <td>148</td>\n",
       "      <td>0</td>\n",
       "      <td>0.4</td>\n",
       "      <td>2</td>\n",
       "      <td>0</td>\n",
       "      <td>6</td>\n",
       "      <td>0</td>\n",
       "    </tr>\n",
       "    <tr>\n",
       "      <th>269</th>\n",
       "      <td>67</td>\n",
       "      <td>1</td>\n",
       "      <td>4</td>\n",
       "      <td>160</td>\n",
       "      <td>286</td>\n",
       "      <td>0</td>\n",
       "      <td>2</td>\n",
       "      <td>108</td>\n",
       "      <td>1</td>\n",
       "      <td>1.5</td>\n",
       "      <td>2</td>\n",
       "      <td>3</td>\n",
       "      <td>3</td>\n",
       "      <td>1</td>\n",
       "    </tr>\n",
       "  </tbody>\n",
       "</table>\n",
       "</div>"
      ],
      "text/plain": [
       "     age  sex  chest  resting_blood_pressure  serum_cholestoral  \\\n",
       "265   52    1      3                     172                199   \n",
       "266   44    1      2                     120                263   \n",
       "267   56    0      2                     140                294   \n",
       "268   57    1      4                     140                192   \n",
       "269   67    1      4                     160                286   \n",
       "\n",
       "     fasting_blood_sugar  resting_electrocardiographic_results  \\\n",
       "265                    1                                     0   \n",
       "266                    0                                     0   \n",
       "267                    0                                     2   \n",
       "268                    0                                     0   \n",
       "269                    0                                     2   \n",
       "\n",
       "     maximum_heart_rate_achieved  exercise_induced_angina  oldpeak  slope  \\\n",
       "265                          162                        0      0.5      1   \n",
       "266                          173                        0      0.0      1   \n",
       "267                          153                        0      1.3      2   \n",
       "268                          148                        0      0.4      2   \n",
       "269                          108                        1      1.5      2   \n",
       "\n",
       "     number_of_major_vessels  thal  class  \n",
       "265                        0     7      0  \n",
       "266                        0     7      0  \n",
       "267                        0     3      0  \n",
       "268                        0     6      0  \n",
       "269                        3     3      1  "
      ]
     },
     "execution_count": 13,
     "metadata": {},
     "output_type": "execute_result"
    }
   ],
   "source": [
    "test.tail()"
   ]
  },
  {
   "cell_type": "markdown",
   "metadata": {},
   "source": [
    "*Agora precisamos retirar dos dados de treino da vairável target*"
   ]
  },
  {
   "cell_type": "code",
   "execution_count": 14,
   "metadata": {},
   "outputs": [
    {
     "data": {
      "text/plain": [
       "((189, 13), (189,))"
      ]
     },
     "execution_count": 14,
     "metadata": {},
     "output_type": "execute_result"
    }
   ],
   "source": [
    "train_labels = train['class']\n",
    "train = train.drop(['class'],axis=1)\n",
    "train.shape,train_labels.shape"
   ]
  },
  {
   "cell_type": "code",
   "execution_count": 15,
   "metadata": {},
   "outputs": [
    {
     "data": {
      "text/html": [
       "<div>\n",
       "<style scoped>\n",
       "    .dataframe tbody tr th:only-of-type {\n",
       "        vertical-align: middle;\n",
       "    }\n",
       "\n",
       "    .dataframe tbody tr th {\n",
       "        vertical-align: top;\n",
       "    }\n",
       "\n",
       "    .dataframe thead th {\n",
       "        text-align: right;\n",
       "    }\n",
       "</style>\n",
       "<table border=\"1\" class=\"dataframe\">\n",
       "  <thead>\n",
       "    <tr style=\"text-align: right;\">\n",
       "      <th></th>\n",
       "      <th>age</th>\n",
       "      <th>sex</th>\n",
       "      <th>chest</th>\n",
       "      <th>resting_blood_pressure</th>\n",
       "      <th>serum_cholestoral</th>\n",
       "      <th>fasting_blood_sugar</th>\n",
       "      <th>resting_electrocardiographic_results</th>\n",
       "      <th>maximum_heart_rate_achieved</th>\n",
       "      <th>exercise_induced_angina</th>\n",
       "      <th>oldpeak</th>\n",
       "      <th>slope</th>\n",
       "      <th>number_of_major_vessels</th>\n",
       "      <th>thal</th>\n",
       "    </tr>\n",
       "  </thead>\n",
       "  <tbody>\n",
       "    <tr>\n",
       "      <th>count</th>\n",
       "      <td>189.000</td>\n",
       "      <td>189.000</td>\n",
       "      <td>189.000</td>\n",
       "      <td>189.000</td>\n",
       "      <td>189.000</td>\n",
       "      <td>189.000</td>\n",
       "      <td>189.000</td>\n",
       "      <td>189.000</td>\n",
       "      <td>189.000</td>\n",
       "      <td>189.000</td>\n",
       "      <td>189.000</td>\n",
       "      <td>189.000</td>\n",
       "      <td>189.000</td>\n",
       "    </tr>\n",
       "    <tr>\n",
       "      <th>mean</th>\n",
       "      <td>54.354</td>\n",
       "      <td>0.656</td>\n",
       "      <td>3.196</td>\n",
       "      <td>130.942</td>\n",
       "      <td>247.545</td>\n",
       "      <td>0.159</td>\n",
       "      <td>1.037</td>\n",
       "      <td>148.106</td>\n",
       "      <td>0.344</td>\n",
       "      <td>1.003</td>\n",
       "      <td>1.593</td>\n",
       "      <td>0.698</td>\n",
       "      <td>4.598</td>\n",
       "    </tr>\n",
       "    <tr>\n",
       "      <th>std</th>\n",
       "      <td>8.976</td>\n",
       "      <td>0.476</td>\n",
       "      <td>0.967</td>\n",
       "      <td>18.244</td>\n",
       "      <td>53.968</td>\n",
       "      <td>0.366</td>\n",
       "      <td>0.997</td>\n",
       "      <td>24.143</td>\n",
       "      <td>0.476</td>\n",
       "      <td>1.143</td>\n",
       "      <td>0.617</td>\n",
       "      <td>0.945</td>\n",
       "      <td>1.923</td>\n",
       "    </tr>\n",
       "    <tr>\n",
       "      <th>min</th>\n",
       "      <td>34.000</td>\n",
       "      <td>0.000</td>\n",
       "      <td>1.000</td>\n",
       "      <td>94.000</td>\n",
       "      <td>126.000</td>\n",
       "      <td>0.000</td>\n",
       "      <td>0.000</td>\n",
       "      <td>71.000</td>\n",
       "      <td>0.000</td>\n",
       "      <td>0.000</td>\n",
       "      <td>1.000</td>\n",
       "      <td>0.000</td>\n",
       "      <td>3.000</td>\n",
       "    </tr>\n",
       "    <tr>\n",
       "      <th>25%</th>\n",
       "      <td>47.000</td>\n",
       "      <td>0.000</td>\n",
       "      <td>3.000</td>\n",
       "      <td>120.000</td>\n",
       "      <td>211.000</td>\n",
       "      <td>0.000</td>\n",
       "      <td>0.000</td>\n",
       "      <td>130.000</td>\n",
       "      <td>0.000</td>\n",
       "      <td>0.000</td>\n",
       "      <td>1.000</td>\n",
       "      <td>0.000</td>\n",
       "      <td>3.000</td>\n",
       "    </tr>\n",
       "    <tr>\n",
       "      <th>50%</th>\n",
       "      <td>55.000</td>\n",
       "      <td>1.000</td>\n",
       "      <td>4.000</td>\n",
       "      <td>130.000</td>\n",
       "      <td>240.000</td>\n",
       "      <td>0.000</td>\n",
       "      <td>2.000</td>\n",
       "      <td>152.000</td>\n",
       "      <td>0.000</td>\n",
       "      <td>0.600</td>\n",
       "      <td>2.000</td>\n",
       "      <td>0.000</td>\n",
       "      <td>3.000</td>\n",
       "    </tr>\n",
       "    <tr>\n",
       "      <th>75%</th>\n",
       "      <td>61.000</td>\n",
       "      <td>1.000</td>\n",
       "      <td>4.000</td>\n",
       "      <td>140.000</td>\n",
       "      <td>274.000</td>\n",
       "      <td>0.000</td>\n",
       "      <td>2.000</td>\n",
       "      <td>165.000</td>\n",
       "      <td>1.000</td>\n",
       "      <td>1.600</td>\n",
       "      <td>2.000</td>\n",
       "      <td>1.000</td>\n",
       "      <td>7.000</td>\n",
       "    </tr>\n",
       "    <tr>\n",
       "      <th>max</th>\n",
       "      <td>76.000</td>\n",
       "      <td>1.000</td>\n",
       "      <td>4.000</td>\n",
       "      <td>200.000</td>\n",
       "      <td>564.000</td>\n",
       "      <td>1.000</td>\n",
       "      <td>2.000</td>\n",
       "      <td>195.000</td>\n",
       "      <td>1.000</td>\n",
       "      <td>5.600</td>\n",
       "      <td>3.000</td>\n",
       "      <td>3.000</td>\n",
       "      <td>7.000</td>\n",
       "    </tr>\n",
       "  </tbody>\n",
       "</table>\n",
       "</div>"
      ],
      "text/plain": [
       "           age      sex    chest  resting_blood_pressure  serum_cholestoral  fasting_blood_sugar  \\\n",
       "count  189.000  189.000  189.000                 189.000            189.000              189.000   \n",
       "mean    54.354    0.656    3.196                 130.942            247.545                0.159   \n",
       "std      8.976    0.476    0.967                  18.244             53.968                0.366   \n",
       "min     34.000    0.000    1.000                  94.000            126.000                0.000   \n",
       "25%     47.000    0.000    3.000                 120.000            211.000                0.000   \n",
       "50%     55.000    1.000    4.000                 130.000            240.000                0.000   \n",
       "75%     61.000    1.000    4.000                 140.000            274.000                0.000   \n",
       "max     76.000    1.000    4.000                 200.000            564.000                1.000   \n",
       "\n",
       "       resting_electrocardiographic_results  maximum_heart_rate_achieved  exercise_induced_angina  \\\n",
       "count                               189.000                      189.000                  189.000   \n",
       "mean                                  1.037                      148.106                    0.344   \n",
       "std                                   0.997                       24.143                    0.476   \n",
       "min                                   0.000                       71.000                    0.000   \n",
       "25%                                   0.000                      130.000                    0.000   \n",
       "50%                                   2.000                      152.000                    0.000   \n",
       "75%                                   2.000                      165.000                    1.000   \n",
       "max                                   2.000                      195.000                    1.000   \n",
       "\n",
       "       oldpeak    slope  number_of_major_vessels     thal  \n",
       "count  189.000  189.000                  189.000  189.000  \n",
       "mean     1.003    1.593                    0.698    4.598  \n",
       "std      1.143    0.617                    0.945    1.923  \n",
       "min      0.000    1.000                    0.000    3.000  \n",
       "25%      0.000    1.000                    0.000    3.000  \n",
       "50%      0.600    2.000                    0.000    3.000  \n",
       "75%      1.600    2.000                    1.000    7.000  \n",
       "max      5.600    3.000                    3.000    7.000  "
      ]
     },
     "execution_count": 15,
     "metadata": {},
     "output_type": "execute_result"
    }
   ],
   "source": [
    "set_option('display.width', 100)\n",
    "set_option('precision', 3)\n",
    "train.describe()"
   ]
  },
  {
   "cell_type": "markdown",
   "metadata": {},
   "source": [
    "*Agora vamos fazer o mesmo procedimento para os dados de teste ou seja dropar a target dos dados de teste.*"
   ]
  },
  {
   "cell_type": "code",
   "execution_count": 16,
   "metadata": {},
   "outputs": [
    {
     "data": {
      "text/plain": [
       "((81, 13), (81,))"
      ]
     },
     "execution_count": 16,
     "metadata": {},
     "output_type": "execute_result"
    }
   ],
   "source": [
    "test_labels = test['class']\n",
    "test = test.drop(['class'],axis=1)\n",
    "test.shape,test_labels.shape"
   ]
  },
  {
   "cell_type": "code",
   "execution_count": 17,
   "metadata": {},
   "outputs": [
    {
     "data": {
      "text/html": [
       "<div>\n",
       "<style scoped>\n",
       "    .dataframe tbody tr th:only-of-type {\n",
       "        vertical-align: middle;\n",
       "    }\n",
       "\n",
       "    .dataframe tbody tr th {\n",
       "        vertical-align: top;\n",
       "    }\n",
       "\n",
       "    .dataframe thead th {\n",
       "        text-align: right;\n",
       "    }\n",
       "</style>\n",
       "<table border=\"1\" class=\"dataframe\">\n",
       "  <thead>\n",
       "    <tr style=\"text-align: right;\">\n",
       "      <th></th>\n",
       "      <th>age</th>\n",
       "      <th>sex</th>\n",
       "      <th>chest</th>\n",
       "      <th>resting_blood_pressure</th>\n",
       "      <th>serum_cholestoral</th>\n",
       "      <th>fasting_blood_sugar</th>\n",
       "      <th>resting_electrocardiographic_results</th>\n",
       "      <th>maximum_heart_rate_achieved</th>\n",
       "      <th>exercise_induced_angina</th>\n",
       "      <th>oldpeak</th>\n",
       "      <th>slope</th>\n",
       "      <th>number_of_major_vessels</th>\n",
       "      <th>thal</th>\n",
       "    </tr>\n",
       "  </thead>\n",
       "  <tbody>\n",
       "    <tr>\n",
       "      <th>189</th>\n",
       "      <td>70</td>\n",
       "      <td>1</td>\n",
       "      <td>3</td>\n",
       "      <td>160</td>\n",
       "      <td>269</td>\n",
       "      <td>0</td>\n",
       "      <td>0</td>\n",
       "      <td>112</td>\n",
       "      <td>1</td>\n",
       "      <td>2.9</td>\n",
       "      <td>2</td>\n",
       "      <td>1</td>\n",
       "      <td>7</td>\n",
       "    </tr>\n",
       "    <tr>\n",
       "      <th>190</th>\n",
       "      <td>54</td>\n",
       "      <td>1</td>\n",
       "      <td>4</td>\n",
       "      <td>140</td>\n",
       "      <td>239</td>\n",
       "      <td>0</td>\n",
       "      <td>0</td>\n",
       "      <td>160</td>\n",
       "      <td>0</td>\n",
       "      <td>1.2</td>\n",
       "      <td>1</td>\n",
       "      <td>0</td>\n",
       "      <td>3</td>\n",
       "    </tr>\n",
       "    <tr>\n",
       "      <th>191</th>\n",
       "      <td>70</td>\n",
       "      <td>1</td>\n",
       "      <td>4</td>\n",
       "      <td>145</td>\n",
       "      <td>174</td>\n",
       "      <td>0</td>\n",
       "      <td>0</td>\n",
       "      <td>125</td>\n",
       "      <td>1</td>\n",
       "      <td>2.6</td>\n",
       "      <td>3</td>\n",
       "      <td>0</td>\n",
       "      <td>7</td>\n",
       "    </tr>\n",
       "    <tr>\n",
       "      <th>192</th>\n",
       "      <td>54</td>\n",
       "      <td>1</td>\n",
       "      <td>2</td>\n",
       "      <td>108</td>\n",
       "      <td>309</td>\n",
       "      <td>0</td>\n",
       "      <td>0</td>\n",
       "      <td>156</td>\n",
       "      <td>0</td>\n",
       "      <td>0.0</td>\n",
       "      <td>1</td>\n",
       "      <td>0</td>\n",
       "      <td>7</td>\n",
       "    </tr>\n",
       "    <tr>\n",
       "      <th>193</th>\n",
       "      <td>35</td>\n",
       "      <td>1</td>\n",
       "      <td>4</td>\n",
       "      <td>126</td>\n",
       "      <td>282</td>\n",
       "      <td>0</td>\n",
       "      <td>2</td>\n",
       "      <td>156</td>\n",
       "      <td>1</td>\n",
       "      <td>0.0</td>\n",
       "      <td>1</td>\n",
       "      <td>0</td>\n",
       "      <td>7</td>\n",
       "    </tr>\n",
       "  </tbody>\n",
       "</table>\n",
       "</div>"
      ],
      "text/plain": [
       "     age  sex  chest  resting_blood_pressure  serum_cholestoral  fasting_blood_sugar  \\\n",
       "189   70    1      3                     160                269                    0   \n",
       "190   54    1      4                     140                239                    0   \n",
       "191   70    1      4                     145                174                    0   \n",
       "192   54    1      2                     108                309                    0   \n",
       "193   35    1      4                     126                282                    0   \n",
       "\n",
       "     resting_electrocardiographic_results  maximum_heart_rate_achieved  exercise_induced_angina  \\\n",
       "189                                     0                          112                        1   \n",
       "190                                     0                          160                        0   \n",
       "191                                     0                          125                        1   \n",
       "192                                     0                          156                        0   \n",
       "193                                     2                          156                        1   \n",
       "\n",
       "     oldpeak  slope  number_of_major_vessels  thal  \n",
       "189      2.9      2                        1     7  \n",
       "190      1.2      1                        0     3  \n",
       "191      2.6      3                        0     7  \n",
       "192      0.0      1                        0     7  \n",
       "193      0.0      1                        0     7  "
      ]
     },
     "execution_count": 17,
     "metadata": {},
     "output_type": "execute_result"
    }
   ],
   "source": [
    "test.head()"
   ]
  },
  {
   "cell_type": "code",
   "execution_count": 18,
   "metadata": {},
   "outputs": [
    {
     "data": {
      "text/plain": [
       "((189, 13), (189,), (81, 13), (81,))"
      ]
     },
     "execution_count": 18,
     "metadata": {},
     "output_type": "execute_result"
    }
   ],
   "source": [
    "train.shape,train_labels.shape,test.shape, test_labels.shape"
   ]
  },
  {
   "cell_type": "markdown",
   "metadata": {},
   "source": [
    "### Vamos fazer uma EDA para verificando a distribuição dos dados em relação à condição de doença cardíaca."
   ]
  },
  {
   "cell_type": "code",
   "execution_count": 19,
   "metadata": {},
   "outputs": [
    {
     "data": {
      "text/plain": [
       "class\n",
       "0    104\n",
       "1     85\n",
       "dtype: int64"
      ]
     },
     "execution_count": 19,
     "metadata": {},
     "output_type": "execute_result"
    }
   ],
   "source": [
    "train_labels = pd.DataFrame(train_labels)\n",
    "train_labels.groupby('class').size()"
   ]
  },
  {
   "cell_type": "code",
   "execution_count": 20,
   "metadata": {},
   "outputs": [
    {
     "data": {
      "image/png": "[encoded data removed]",
      "text/plain": [
       "<Figure size 432x288 with 1 Axes>"
      ]
     },
     "metadata": {
      "needs_background": "light"
     },
     "output_type": "display_data"
    }
   ],
   "source": [
    "sns.countplot(y=train_labels['class'] ,data=train_labels)\n",
    "plt.xlabel(\"Número com doença cardíaca\")\n",
    "plt.ylabel(\"Target\")\n",
    "plt.show()"
   ]
  },
  {
   "cell_type": "code",
   "execution_count": 21,
   "metadata": {},
   "outputs": [
    {
     "data": {
      "text/html": [
       "<div>\n",
       "<style scoped>\n",
       "    .dataframe tbody tr th:only-of-type {\n",
       "        vertical-align: middle;\n",
       "    }\n",
       "\n",
       "    .dataframe tbody tr th {\n",
       "        vertical-align: top;\n",
       "    }\n",
       "\n",
       "    .dataframe thead th {\n",
       "        text-align: right;\n",
       "    }\n",
       "</style>\n",
       "<table border=\"1\" class=\"dataframe\">\n",
       "  <thead>\n",
       "    <tr style=\"text-align: right;\">\n",
       "      <th></th>\n",
       "      <th>count</th>\n",
       "      <th>mean</th>\n",
       "      <th>std</th>\n",
       "      <th>min</th>\n",
       "      <th>25%</th>\n",
       "      <th>50%</th>\n",
       "      <th>75%</th>\n",
       "      <th>max</th>\n",
       "    </tr>\n",
       "  </thead>\n",
       "  <tbody>\n",
       "    <tr>\n",
       "      <th>age</th>\n",
       "      <td>189.0</td>\n",
       "      <td>54.354</td>\n",
       "      <td>8.976</td>\n",
       "      <td>34.0</td>\n",
       "      <td>47.0</td>\n",
       "      <td>55.0</td>\n",
       "      <td>61.0</td>\n",
       "      <td>76.0</td>\n",
       "    </tr>\n",
       "    <tr>\n",
       "      <th>sex</th>\n",
       "      <td>189.0</td>\n",
       "      <td>0.656</td>\n",
       "      <td>0.476</td>\n",
       "      <td>0.0</td>\n",
       "      <td>0.0</td>\n",
       "      <td>1.0</td>\n",
       "      <td>1.0</td>\n",
       "      <td>1.0</td>\n",
       "    </tr>\n",
       "    <tr>\n",
       "      <th>chest</th>\n",
       "      <td>189.0</td>\n",
       "      <td>3.196</td>\n",
       "      <td>0.967</td>\n",
       "      <td>1.0</td>\n",
       "      <td>3.0</td>\n",
       "      <td>4.0</td>\n",
       "      <td>4.0</td>\n",
       "      <td>4.0</td>\n",
       "    </tr>\n",
       "    <tr>\n",
       "      <th>resting_blood_pressure</th>\n",
       "      <td>189.0</td>\n",
       "      <td>130.942</td>\n",
       "      <td>18.244</td>\n",
       "      <td>94.0</td>\n",
       "      <td>120.0</td>\n",
       "      <td>130.0</td>\n",
       "      <td>140.0</td>\n",
       "      <td>200.0</td>\n",
       "    </tr>\n",
       "    <tr>\n",
       "      <th>serum_cholestoral</th>\n",
       "      <td>189.0</td>\n",
       "      <td>247.545</td>\n",
       "      <td>53.968</td>\n",
       "      <td>126.0</td>\n",
       "      <td>211.0</td>\n",
       "      <td>240.0</td>\n",
       "      <td>274.0</td>\n",
       "      <td>564.0</td>\n",
       "    </tr>\n",
       "    <tr>\n",
       "      <th>fasting_blood_sugar</th>\n",
       "      <td>189.0</td>\n",
       "      <td>0.159</td>\n",
       "      <td>0.366</td>\n",
       "      <td>0.0</td>\n",
       "      <td>0.0</td>\n",
       "      <td>0.0</td>\n",
       "      <td>0.0</td>\n",
       "      <td>1.0</td>\n",
       "    </tr>\n",
       "    <tr>\n",
       "      <th>resting_electrocardiographic_results</th>\n",
       "      <td>189.0</td>\n",
       "      <td>1.037</td>\n",
       "      <td>0.997</td>\n",
       "      <td>0.0</td>\n",
       "      <td>0.0</td>\n",
       "      <td>2.0</td>\n",
       "      <td>2.0</td>\n",
       "      <td>2.0</td>\n",
       "    </tr>\n",
       "    <tr>\n",
       "      <th>maximum_heart_rate_achieved</th>\n",
       "      <td>189.0</td>\n",
       "      <td>148.106</td>\n",
       "      <td>24.143</td>\n",
       "      <td>71.0</td>\n",
       "      <td>130.0</td>\n",
       "      <td>152.0</td>\n",
       "      <td>165.0</td>\n",
       "      <td>195.0</td>\n",
       "    </tr>\n",
       "    <tr>\n",
       "      <th>exercise_induced_angina</th>\n",
       "      <td>189.0</td>\n",
       "      <td>0.344</td>\n",
       "      <td>0.476</td>\n",
       "      <td>0.0</td>\n",
       "      <td>0.0</td>\n",
       "      <td>0.0</td>\n",
       "      <td>1.0</td>\n",
       "      <td>1.0</td>\n",
       "    </tr>\n",
       "    <tr>\n",
       "      <th>oldpeak</th>\n",
       "      <td>189.0</td>\n",
       "      <td>1.003</td>\n",
       "      <td>1.143</td>\n",
       "      <td>0.0</td>\n",
       "      <td>0.0</td>\n",
       "      <td>0.6</td>\n",
       "      <td>1.6</td>\n",
       "      <td>5.6</td>\n",
       "    </tr>\n",
       "    <tr>\n",
       "      <th>slope</th>\n",
       "      <td>189.0</td>\n",
       "      <td>1.593</td>\n",
       "      <td>0.617</td>\n",
       "      <td>1.0</td>\n",
       "      <td>1.0</td>\n",
       "      <td>2.0</td>\n",
       "      <td>2.0</td>\n",
       "      <td>3.0</td>\n",
       "    </tr>\n",
       "    <tr>\n",
       "      <th>number_of_major_vessels</th>\n",
       "      <td>189.0</td>\n",
       "      <td>0.698</td>\n",
       "      <td>0.945</td>\n",
       "      <td>0.0</td>\n",
       "      <td>0.0</td>\n",
       "      <td>0.0</td>\n",
       "      <td>1.0</td>\n",
       "      <td>3.0</td>\n",
       "    </tr>\n",
       "    <tr>\n",
       "      <th>thal</th>\n",
       "      <td>189.0</td>\n",
       "      <td>4.598</td>\n",
       "      <td>1.923</td>\n",
       "      <td>3.0</td>\n",
       "      <td>3.0</td>\n",
       "      <td>3.0</td>\n",
       "      <td>7.0</td>\n",
       "      <td>7.0</td>\n",
       "    </tr>\n",
       "  </tbody>\n",
       "</table>\n",
       "</div>"
      ],
      "text/plain": [
       "                                      count     mean     std    min    25%    50%    75%    max\n",
       "age                                   189.0   54.354   8.976   34.0   47.0   55.0   61.0   76.0\n",
       "sex                                   189.0    0.656   0.476    0.0    0.0    1.0    1.0    1.0\n",
       "chest                                 189.0    3.196   0.967    1.0    3.0    4.0    4.0    4.0\n",
       "resting_blood_pressure                189.0  130.942  18.244   94.0  120.0  130.0  140.0  200.0\n",
       "serum_cholestoral                     189.0  247.545  53.968  126.0  211.0  240.0  274.0  564.0\n",
       "fasting_blood_sugar                   189.0    0.159   0.366    0.0    0.0    0.0    0.0    1.0\n",
       "resting_electrocardiographic_results  189.0    1.037   0.997    0.0    0.0    2.0    2.0    2.0\n",
       "maximum_heart_rate_achieved           189.0  148.106  24.143   71.0  130.0  152.0  165.0  195.0\n",
       "exercise_induced_angina               189.0    0.344   0.476    0.0    0.0    0.0    1.0    1.0\n",
       "oldpeak                               189.0    1.003   1.143    0.0    0.0    0.6    1.6    5.6\n",
       "slope                                 189.0    1.593   0.617    1.0    1.0    2.0    2.0    3.0\n",
       "number_of_major_vessels               189.0    0.698   0.945    0.0    0.0    0.0    1.0    3.0\n",
       "thal                                  189.0    4.598   1.923    3.0    3.0    3.0    7.0    7.0"
      ]
     },
     "execution_count": 21,
     "metadata": {},
     "output_type": "execute_result"
    }
   ],
   "source": [
    "train.describe().T"
   ]
  },
  {
   "cell_type": "markdown",
   "metadata": {},
   "source": [
    "**plotando o heatmap de correlação**"
   ]
  },
  {
   "cell_type": "code",
   "execution_count": 22,
   "metadata": {},
   "outputs": [
    {
     "data": {
      "image/png": "[encoded data removed]",
      "text/plain": [
       "<Figure size 864x576 with 2 Axes>"
      ]
     },
     "metadata": {
      "needs_background": "light"
     },
     "output_type": "display_data"
    }
   ],
   "source": [
    "sns.heatmap(train.corr(method='pearson'),annot=True, cmap='icefire', linewidths=0.1)\n",
    "fig=plt.gcf()\n",
    "fig.set_size_inches(12,8)\n",
    "plt.show()"
   ]
  },
  {
   "cell_type": "markdown",
   "metadata": {},
   "source": [
    "Note que em nosso dados de treino as variáveis tem baixa correlação entre si, tirando as variaveis slope x oldpear onde:\n",
    "    \n",
    "- slope: slope_of_peak_exercise_st_segment (type: int): a inclinação do segmento ST do pico do exercício, uma eletrocardiografia lida indicando a qualidade do fluxo sanguíneo no coração.\n",
    "    \n",
    "- oldpeak: oldpeak_eq_st_depression (tipo: float): oldpeak = depressão do ST induzida pelo exercício em relação ao repouso, uma medida de anormalidade nos eletrocardiogramas.   "
   ]
  },
  {
   "cell_type": "markdown",
   "metadata": {},
   "source": [
    "## Vamos informa a importância das features"
   ]
  },
  {
   "cell_type": "markdown",
   "metadata": {},
   "source": [
    "**O XGBoost possui a classe plot_importance que informa a importância das features**"
   ]
  },
  {
   "cell_type": "markdown",
   "metadata": {},
   "source": [
    "*será necessário primeiro rodar o XGBoost para compreender a importância das colunas*"
   ]
  },
  {
   "cell_type": "code",
   "execution_count": 23,
   "metadata": {},
   "outputs": [
    {
     "data": {
      "text/plain": [
       "XGBClassifier(base_score=0.5, booster='gbtree', colsample_bylevel=1,\n",
       "              colsample_bynode=1, colsample_bytree=1, gamma=0,\n",
       "              learning_rate=0.1, max_delta_step=0, max_depth=3,\n",
       "              min_child_weight=1, missing=None, n_estimators=100, n_jobs=1,\n",
       "              nthread=None, objective='binary:logistic', random_state=0,\n",
       "              reg_alpha=0, reg_lambda=1, scale_pos_weight=1, seed=None,\n",
       "              silent=None, subsample=1, verbosity=1)"
      ]
     },
     "execution_count": 23,
     "metadata": {},
     "output_type": "execute_result"
    }
   ],
   "source": [
    "from xgboost import plot_importance\n",
    "model = xgb.XGBClassifier()\n",
    "model.fit(train, train_labels['class'].values)"
   ]
  },
  {
   "cell_type": "markdown",
   "metadata": {},
   "source": [
    "**plot feature importance**"
   ]
  },
  {
   "cell_type": "code",
   "execution_count": 24,
   "metadata": {},
   "outputs": [
    {
     "data": {
      "image/png": "[encoded data removed]",
      "text/plain": [
       "<Figure size 432x288 with 1 Axes>"
      ]
     },
     "metadata": {
      "needs_background": "light"
     },
     "output_type": "display_data"
    }
   ],
   "source": [
    "# plot feature importance\n",
    "plot_importance(model)\n",
    "plt.show()"
   ]
  },
  {
   "cell_type": "markdown",
   "metadata": {},
   "source": [
    "*Essa feature é incrível e mostra as variáveis mais importantes do data set  ou seja as variáveis que mais implicam com a target.*"
   ]
  },
  {
   "cell_type": "markdown",
   "metadata": {},
   "source": [
    "## Feature Engineering - variáveis categóricas"
   ]
  },
  {
   "cell_type": "markdown",
   "metadata": {},
   "source": [
    "*Agora será necessário fazer o feature engineering das variáveis categóricas.*"
   ]
  },
  {
   "cell_type": "markdown",
   "metadata": {},
   "source": [
    "*vamos \"dummizando\" os dados de treino e teste*"
   ]
  },
  {
   "cell_type": "code",
   "execution_count": 34,
   "metadata": {},
   "outputs": [],
   "source": [
    "one_hot_encoded_training_predictors = pd.get_dummies(train)\n",
    "one_hot_encoded_test_predictors = pd.get_dummies(test)\n",
    "train,test = one_hot_encoded_training_predictors.align(one_hot_encoded_test_predictors,\n",
    "                                                                    join='left', \n",
    "                                                                    axis=1)  "
   ]
  },
  {
   "cell_type": "markdown",
   "metadata": {},
   "source": [
    "## Rodando o modelo preditor com o XGBoost."
   ]
  },
  {
   "cell_type": "markdown",
   "metadata": {},
   "source": [
    "o que é o Ensemble XGBoost ?"
   ]
  },
  {
   "cell_type": "markdown",
   "metadata": {},
   "source": [
    "*Antes de explicar o XGBoost primeiro preciso citar o Gradient boosting que usa a Modelagem Aditiva, na qual uma nova árvore de decisão é adicionada uma de cada vez a um modelo que minimiza a perda usando a descida de gradiente. As árvores existentes no modelo permanecem intocadas e, assim, diminuem a taxa de sobre ajuste. A saída da nova árvore é combinada com a saída das árvores existentes até que a perda seja minimizada abaixo de um limite ou seja atingido o limite especificado de árvores.\n",
    " A modelagem aditiva em matemática é uma divisão de uma função na adição de N sub funções. Em termos estatísticos, pode ser pensado como um modelo de regressão em que a resposta y é a soma aritmética dos efeitos individuais das variáveis preditoras x.*"
   ]
  },
  {
   "cell_type": "markdown",
   "metadata": {},
   "source": [
    "**Xtreme Gradient Boosting:**"
   ]
  },
  {
   "cell_type": "markdown",
   "metadata": {},
   "source": [
    "*O XGBoost é a Evolução do Gradient Boosting, concebido com requisitos extremos de performance e paralelismo. Conta também com otimizações que contemplam regularização e validação cruzada a cada etapa.*"
   ]
  },
  {
   "cell_type": "markdown",
   "metadata": {},
   "source": [
    "<img src=\"https://i.imgur.com/1gZPE5o.png\" />"
   ]
  },
  {
   "cell_type": "markdown",
   "metadata": {},
   "source": [
    "# Vamos explorar todas as possibilidades do XGBoost"
   ]
  },
  {
   "cell_type": "code",
   "execution_count": 37,
   "metadata": {},
   "outputs": [
    {
     "name": "stdout",
     "output_type": "stream",
     "text": [
      "Accuracy: 68.42%\n"
     ]
    }
   ],
   "source": [
    "# dependências\n",
    "from numpy import sort\n",
    "from sklearn.feature_selection import SelectFromModel\n",
    "\n",
    "# spliting dos dados\n",
    "X_train, X_test, y_train, y_test = train_test_split(train, train_labels['class'].values, test_size=0.10, random_state=7)\n",
    "\n",
    "# ajuste do modelo de treino\n",
    "model = xgb.XGBClassifier()\n",
    "model.fit(X_train, y_train)\n",
    "\n",
    "# fazendo previsões para dados de teste e avaliar\n",
    "y_pred = model.predict(X_test)\n",
    "predictions = [round(value) for value in y_pred]\n",
    "accuracy = accuracy_score(y_test, predictions)\n",
    "print(\"Accuracy: %.2f%%\" % (accuracy * 100.0))"
   ]
  },
  {
   "cell_type": "markdown",
   "metadata": {},
   "source": [
    "*Ok, obtemos uma acurácia de 68.42% em nosso modelo*"
   ]
  },
  {
   "cell_type": "markdown",
   "metadata": {},
   "source": [
    "## Validação de diferentes features selecionadas através do SelectFromModel"
   ]
  },
  {
   "cell_type": "markdown",
   "metadata": {},
   "source": [
    "*Basicamente o SelectFromModel é Meta-transformador para selecionar recursos com base em pesos de importância.*"
   ]
  },
  {
   "cell_type": "markdown",
   "metadata": {},
   "source": [
    "Documentação: https://scikit-learn.org/stable/modules/generated/sklearn.feature_selection.SelectFromModel.html"
   ]
  },
  {
   "cell_type": "code",
   "execution_count": 38,
   "metadata": {},
   "outputs": [
    {
     "name": "stdout",
     "output_type": "stream",
     "text": [
      "Thresh=0.000, n=13, Accuracy: 68.42%\n",
      "Thresh=0.027, n=12, Accuracy: 68.42%\n",
      "Thresh=0.036, n=11, Accuracy: 68.42%\n",
      "Thresh=0.040, n=10, Accuracy: 68.42%\n",
      "Thresh=0.042, n=9, Accuracy: 68.42%\n",
      "Thresh=0.043, n=8, Accuracy: 73.68%\n",
      "Thresh=0.048, n=7, Accuracy: 68.42%\n",
      "Thresh=0.058, n=6, Accuracy: 73.68%\n",
      "Thresh=0.074, n=5, Accuracy: 68.42%\n",
      "Thresh=0.104, n=4, Accuracy: 68.42%\n",
      "Thresh=0.153, n=3, Accuracy: 78.95%\n",
      "Thresh=0.171, n=2, Accuracy: 68.42%\n",
      "Thresh=0.206, n=1, Accuracy: 63.16%\n"
     ]
    }
   ],
   "source": [
    "# Vamos fazer o fit do modelo usando diferentes features, iterativamente\n",
    "thresholds = sort(model.feature_importances_)\n",
    "for thresh in thresholds:\n",
    "    \n",
    "    # selecionando as features usando threshold\n",
    "    selection = SelectFromModel(model, threshold=thresh, prefit=True)\n",
    "    select_X_train = selection.transform(X_train)\n",
    "    \n",
    "    # treino do modelo\n",
    "    selection_model = xgb.XGBClassifier()\n",
    "    selection_model.fit(select_X_train, y_train)\n",
    "    \n",
    "    # avaliação do modelo\n",
    "    select_X_test = selection.transform(X_test)\n",
    "    y_pred = selection_model.predict(select_X_test)\n",
    "    predictions = [round(value) for value in y_pred]\n",
    "    accuracy = accuracy_score(y_test, predictions)\n",
    "    print(\"Thresh=%.3f, n=%d, Accuracy: %.2f%%\" % (thresh, select_X_train.shape[1], accuracy*100.0))"
   ]
  },
  {
   "cell_type": "markdown",
   "metadata": {},
   "source": [
    "## Agora vamos verificando a performance do modelo para diferente número de estimadores"
   ]
  },
  {
   "cell_type": "code",
   "execution_count": 39,
   "metadata": {},
   "outputs": [
    {
     "name": "stdout",
     "output_type": "stream",
     "text": [
      "(170, 13) (19, 13)\n",
      "\n",
      "Number of rows in Train dataset: 170\n",
      "\n",
      "Number of rows in Test dataset: 19\n"
     ]
    }
   ],
   "source": [
    "# spliting dos dados\n",
    "train_X, test_X, train_Y, test_Y = train_test_split(train, \n",
    "                                                    train_labels, \n",
    "                                                    test_size=0.10, \n",
    "                                                    stratify=train_labels, \n",
    "                                                    random_state=42)\n",
    "# resultados\n",
    "print(train_X.shape, test_X.shape)\n",
    "print()\n",
    "print('Number of rows in Train dataset:',train_X.shape[0])\n",
    "print()\n",
    "print('Number of rows in Test dataset:',test_X.shape[0])"
   ]
  },
  {
   "cell_type": "markdown",
   "metadata": {},
   "source": [
    "*Normalização dos dados*"
   ]
  },
  {
   "cell_type": "code",
   "execution_count": 40,
   "metadata": {},
   "outputs": [],
   "source": [
    "scaler = StandardScaler()\n",
    "train_X = scaler.fit_transform(train_X)\n",
    "test_X = scaler.transform(test_X)"
   ]
  },
  {
   "cell_type": "markdown",
   "metadata": {},
   "source": [
    "*O XGBoost usa uma métrica popular chamada logloss 'perda de log', assim como a maioria dos outros algoritmos de aumento de gradiente. Essa métrica baseada em probabilidade é usada para medir o desempenho de um modelo de classificação.*"
   ]
  },
  {
   "cell_type": "markdown",
   "metadata": {},
   "source": [
    "*Nesse artigo Srishti Saha explica muito bem como funciona o logloss*"
   ]
  },
  {
   "cell_type": "markdown",
   "metadata": {},
   "source": [
    "créditos: https://medium.com/datadriveninvestor/understanding-the-log-loss-function-of-xgboost-8842e99d975d"
   ]
  },
  {
   "cell_type": "code",
   "execution_count": 42,
   "metadata": {
    "scrolled": true
   },
   "outputs": [
    {
     "name": "stdout",
     "output_type": "stream",
     "text": [
      "[0]\tvalidation_0-error:0.305882\tvalidation_0-logloss:0.670562\tvalidation_1-error:0.315789\tvalidation_1-logloss:0.672204\n",
      "Multiple eval metrics have been passed: 'validation_1-logloss' will be used for early stopping.\n",
      "\n",
      "Will train until validation_1-logloss hasn't improved in 15 rounds.\n",
      "[1]\tvalidation_0-error:0.235294\tvalidation_0-logloss:0.643742\tvalidation_1-error:0.105263\tvalidation_1-logloss:0.640345\n",
      "[2]\tvalidation_0-error:0.270588\tvalidation_0-logloss:0.625286\tvalidation_1-error:0.105263\tvalidation_1-logloss:0.604707\n",
      "[3]\tvalidation_0-error:0.252941\tvalidation_0-logloss:0.603008\tvalidation_1-error:0.105263\tvalidation_1-logloss:0.575888\n",
      "[4]\tvalidation_0-error:0.217647\tvalidation_0-logloss:0.581696\tvalidation_1-error:0.157895\tvalidation_1-logloss:0.561476\n",
      "[5]\tvalidation_0-error:0.2\tvalidation_0-logloss:0.561776\tvalidation_1-error:0.157895\tvalidation_1-logloss:0.537821\n",
      "[6]\tvalidation_0-error:0.211765\tvalidation_0-logloss:0.547827\tvalidation_1-error:0.210526\tvalidation_1-logloss:0.521017\n",
      "[7]\tvalidation_0-error:0.188235\tvalidation_0-logloss:0.531326\tvalidation_1-error:0.157895\tvalidation_1-logloss:0.511495\n",
      "[8]\tvalidation_0-error:0.205882\tvalidation_0-logloss:0.525232\tvalidation_1-error:0.157895\tvalidation_1-logloss:0.519467\n",
      "[9]\tvalidation_0-error:0.176471\tvalidation_0-logloss:0.512864\tvalidation_1-error:0.157895\tvalidation_1-logloss:0.505378\n",
      "[10]\tvalidation_0-error:0.170588\tvalidation_0-logloss:0.503171\tvalidation_1-error:0.210526\tvalidation_1-logloss:0.493827\n",
      "[11]\tvalidation_0-error:0.158824\tvalidation_0-logloss:0.486827\tvalidation_1-error:0.157895\tvalidation_1-logloss:0.487092\n",
      "[12]\tvalidation_0-error:0.152941\tvalidation_0-logloss:0.481443\tvalidation_1-error:0.210526\tvalidation_1-logloss:0.494132\n",
      "[13]\tvalidation_0-error:0.170588\tvalidation_0-logloss:0.472933\tvalidation_1-error:0.157895\tvalidation_1-logloss:0.483937\n",
      "[14]\tvalidation_0-error:0.164706\tvalidation_0-logloss:0.463405\tvalidation_1-error:0.210526\tvalidation_1-logloss:0.475786\n",
      "[15]\tvalidation_0-error:0.164706\tvalidation_0-logloss:0.452976\tvalidation_1-error:0.157895\tvalidation_1-logloss:0.472519\n",
      "[16]\tvalidation_0-error:0.164706\tvalidation_0-logloss:0.444943\tvalidation_1-error:0.157895\tvalidation_1-logloss:0.470899\n",
      "[17]\tvalidation_0-error:0.164706\tvalidation_0-logloss:0.440558\tvalidation_1-error:0.157895\tvalidation_1-logloss:0.463257\n",
      "[18]\tvalidation_0-error:0.147059\tvalidation_0-logloss:0.436842\tvalidation_1-error:0.157895\tvalidation_1-logloss:0.466063\n",
      "[19]\tvalidation_0-error:0.147059\tvalidation_0-logloss:0.433346\tvalidation_1-error:0.157895\tvalidation_1-logloss:0.468354\n",
      "[20]\tvalidation_0-error:0.147059\tvalidation_0-logloss:0.426635\tvalidation_1-error:0.210526\tvalidation_1-logloss:0.460295\n",
      "[21]\tvalidation_0-error:0.129412\tvalidation_0-logloss:0.420774\tvalidation_1-error:0.157895\tvalidation_1-logloss:0.444069\n",
      "[22]\tvalidation_0-error:0.141176\tvalidation_0-logloss:0.417755\tvalidation_1-error:0.157895\tvalidation_1-logloss:0.439236\n",
      "[23]\tvalidation_0-error:0.135294\tvalidation_0-logloss:0.412889\tvalidation_1-error:0.157895\tvalidation_1-logloss:0.435931\n",
      "[24]\tvalidation_0-error:0.135294\tvalidation_0-logloss:0.410293\tvalidation_1-error:0.157895\tvalidation_1-logloss:0.434217\n",
      "[25]\tvalidation_0-error:0.117647\tvalidation_0-logloss:0.40224\tvalidation_1-error:0.157895\tvalidation_1-logloss:0.433739\n",
      "[26]\tvalidation_0-error:0.117647\tvalidation_0-logloss:0.396416\tvalidation_1-error:0.157895\tvalidation_1-logloss:0.426231\n",
      "[27]\tvalidation_0-error:0.123529\tvalidation_0-logloss:0.393325\tvalidation_1-error:0.157895\tvalidation_1-logloss:0.424561\n",
      "[28]\tvalidation_0-error:0.129412\tvalidation_0-logloss:0.389715\tvalidation_1-error:0.157895\tvalidation_1-logloss:0.422311\n",
      "[29]\tvalidation_0-error:0.135294\tvalidation_0-logloss:0.384996\tvalidation_1-error:0.157895\tvalidation_1-logloss:0.419685\n",
      "[30]\tvalidation_0-error:0.141176\tvalidation_0-logloss:0.381438\tvalidation_1-error:0.157895\tvalidation_1-logloss:0.414949\n",
      "[31]\tvalidation_0-error:0.141176\tvalidation_0-logloss:0.378327\tvalidation_1-error:0.157895\tvalidation_1-logloss:0.411334\n",
      "[32]\tvalidation_0-error:0.117647\tvalidation_0-logloss:0.374457\tvalidation_1-error:0.157895\tvalidation_1-logloss:0.412533\n",
      "[33]\tvalidation_0-error:0.123529\tvalidation_0-logloss:0.371452\tvalidation_1-error:0.157895\tvalidation_1-logloss:0.406058\n",
      "[34]\tvalidation_0-error:0.117647\tvalidation_0-logloss:0.369373\tvalidation_1-error:0.157895\tvalidation_1-logloss:0.410006\n",
      "[35]\tvalidation_0-error:0.141176\tvalidation_0-logloss:0.367021\tvalidation_1-error:0.157895\tvalidation_1-logloss:0.401049\n",
      "[36]\tvalidation_0-error:0.129412\tvalidation_0-logloss:0.364613\tvalidation_1-error:0.157895\tvalidation_1-logloss:0.399302\n",
      "[37]\tvalidation_0-error:0.147059\tvalidation_0-logloss:0.363672\tvalidation_1-error:0.157895\tvalidation_1-logloss:0.391782\n",
      "[38]\tvalidation_0-error:0.129412\tvalidation_0-logloss:0.360613\tvalidation_1-error:0.157895\tvalidation_1-logloss:0.394196\n",
      "[39]\tvalidation_0-error:0.147059\tvalidation_0-logloss:0.357033\tvalidation_1-error:0.157895\tvalidation_1-logloss:0.389483\n",
      "[40]\tvalidation_0-error:0.129412\tvalidation_0-logloss:0.355306\tvalidation_1-error:0.157895\tvalidation_1-logloss:0.385245\n",
      "[41]\tvalidation_0-error:0.129412\tvalidation_0-logloss:0.352637\tvalidation_1-error:0.157895\tvalidation_1-logloss:0.388055\n",
      "[42]\tvalidation_0-error:0.135294\tvalidation_0-logloss:0.3525\tvalidation_1-error:0.157895\tvalidation_1-logloss:0.377211\n",
      "[43]\tvalidation_0-error:0.135294\tvalidation_0-logloss:0.349182\tvalidation_1-error:0.157895\tvalidation_1-logloss:0.377102\n",
      "[44]\tvalidation_0-error:0.129412\tvalidation_0-logloss:0.346829\tvalidation_1-error:0.157895\tvalidation_1-logloss:0.378017\n",
      "[45]\tvalidation_0-error:0.129412\tvalidation_0-logloss:0.345222\tvalidation_1-error:0.157895\tvalidation_1-logloss:0.377168\n",
      "[46]\tvalidation_0-error:0.111765\tvalidation_0-logloss:0.34369\tvalidation_1-error:0.157895\tvalidation_1-logloss:0.388531\n",
      "[47]\tvalidation_0-error:0.141176\tvalidation_0-logloss:0.341838\tvalidation_1-error:0.157895\tvalidation_1-logloss:0.389199\n",
      "[48]\tvalidation_0-error:0.135294\tvalidation_0-logloss:0.341096\tvalidation_1-error:0.157895\tvalidation_1-logloss:0.390829\n",
      "[49]\tvalidation_0-error:0.141176\tvalidation_0-logloss:0.338651\tvalidation_1-error:0.157895\tvalidation_1-logloss:0.394756\n"
     ]
    },
    {
     "data": {
      "text/plain": [
       "XGBClassifier(base_score=0.5, booster='gbtree', colsample_bylevel=1,\n",
       "              colsample_bynode=1, colsample_bytree=1, gamma=0,\n",
       "              learning_rate=0.12, max_delta_step=0, max_depth=1,\n",
       "              min_child_weight=1, missing=None, n_estimators=50, n_jobs=1,\n",
       "              nthread=None, objective='binary:logistic', random_state=0,\n",
       "              reg_alpha=0, reg_lambda=1, scale_pos_weight=1, seed=None,\n",
       "              silent=None, subsample=0.33, verbosity=1)"
      ]
     },
     "execution_count": 42,
     "metadata": {},
     "output_type": "execute_result"
    }
   ],
   "source": [
    "# running XGBoost model\n",
    "model_base = xgb.XGBClassifier(max_depth=1,\n",
    "                        subsample=0.33,\n",
    "                        objective='binary:logistic',\n",
    "                        n_estimators=50,\n",
    "                        learning_rate = 0.12)\n",
    "eval_set = [(train_X, train_Y.values.ravel()), (test_X, test_Y.values.ravel())]\n",
    "model_base.fit(train_X, train_Y.values.ravel(), \n",
    "               early_stopping_rounds=15, \n",
    "               eval_metric=[\"error\", \"logloss\"], \n",
    "               eval_set=eval_set)"
   ]
  },
  {
   "cell_type": "markdown",
   "metadata": {},
   "source": [
    "## Predições nos dados de Teste"
   ]
  },
  {
   "cell_type": "code",
   "execution_count": 44,
   "metadata": {},
   "outputs": [
    {
     "name": "stdout",
     "output_type": "stream",
     "text": [
      "Accuracy: 84.21%\n"
     ]
    }
   ],
   "source": [
    "y_pred = model_base.predict(test_X)\n",
    "predictions = [round(value) for value in y_pred]\n",
    "accuracy = accuracy_score(test_Y, predictions)\n",
    "print(\"Accuracy: %.2f%%\" % (accuracy * 100.0))"
   ]
  },
  {
   "cell_type": "markdown",
   "metadata": {},
   "source": [
    "**recuperando as métricas de desempenho**"
   ]
  },
  {
   "cell_type": "code",
   "execution_count": 45,
   "metadata": {},
   "outputs": [],
   "source": [
    "results = model_base.evals_result()\n",
    "epochs = len(results['validation_0']['error'])\n",
    "x_axis = range(0, epochs)"
   ]
  },
  {
   "cell_type": "markdown",
   "metadata": {},
   "source": [
    "## Plot do log loss e erro de classificação"
   ]
  },
  {
   "cell_type": "code",
   "execution_count": 47,
   "metadata": {},
   "outputs": [
    {
     "data": {
      "image/png": "[encoded data removed]",
      "text/plain": [
       "<Figure size 432x288 with 1 Axes>"
      ]
     },
     "metadata": {
      "needs_background": "light"
     },
     "output_type": "display_data"
    },
    {
     "data": {
      "image/png": "[encoded data removed]",
      "text/plain": [
       "<Figure size 432x288 with 1 Axes>"
      ]
     },
     "metadata": {
      "needs_background": "light"
     },
     "output_type": "display_data"
    }
   ],
   "source": [
    "fig, ax = plt.subplots()\n",
    "ax.plot(x_axis, results['validation_0']['logloss'], label='Train')\n",
    "ax.plot(x_axis, results['validation_1']['logloss'], label='Test')\n",
    "ax.legend()\n",
    "plt.ylabel('Log Loss')\n",
    "plt.title('XGBoost Log Loss')\n",
    "plt.show()\n",
    "\n",
    "fig, ax = plt.subplots()\n",
    "ax.plot(x_axis, results['validation_0']['error'], label='Train')\n",
    "ax.plot(x_axis, results['validation_1']['error'], label='Test')\n",
    "ax.legend()\n",
    "plt.ylabel('Classification Error')\n",
    "plt.title('XGBoost Classification Error')\n",
    "plt.show()"
   ]
  }
 ],
 "metadata": {
  "kernelspec": {
   "display_name": "Python 3",
   "language": "python",
   "name": "python3"
  },
  "language_info": {
   "codemirror_mode": {
    "name": "ipython",
    "version": 3
   },
   "file_extension": ".py",
   "mimetype": "text/x-python",
   "name": "python",
   "nbconvert_exporter": "python",
   "pygments_lexer": "ipython3",
   "version": "3.7.6"
  }
 },
 "nbformat": 4,
 "nbformat_minor": 4
}
